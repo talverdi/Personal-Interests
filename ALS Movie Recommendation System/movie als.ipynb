{
 "cells": [
  {
   "cell_type": "code",
   "execution_count": 1,
   "id": "3ecafd98",
   "metadata": {},
   "outputs": [],
   "source": [
    "import findspark\n",
    "findspark.init()\n",
    "import pyspark\n",
    "from pyspark.sql import SparkSession\n",
    "from pyspark.sql import SQLContext\n",
    "from pyspark.ml.evaluation import RegressionEvaluator\n",
    "from pyspark.ml.recommendation import ALS\n",
    "from pyspark.sql.functions import udf, col, when\n",
    "import numpy as np\n"
   ]
  },
  {
   "cell_type": "code",
   "execution_count": 3,
   "id": "f062a98d",
   "metadata": {},
   "outputs": [],
   "source": [
    "directory = 'movei-lens-small-latest-dataset'"
   ]
  },
  {
   "cell_type": "code",
   "execution_count": 31,
   "id": "38c60a96",
   "metadata": {},
   "outputs": [],
   "source": [
    "# import os\n",
    "# os.listdir()"
   ]
  },
  {
   "cell_type": "code",
   "execution_count": 5,
   "id": "971aa80a",
   "metadata": {},
   "outputs": [],
   "source": [
    "spark = SparkSession.builder.appName('Movie_Recommendation').getOrCreate()"
   ]
  },
  {
   "cell_type": "code",
   "execution_count": 6,
   "id": "b1f24a33",
   "metadata": {},
   "outputs": [],
   "source": [
    "sc = spark.sparkContext\n",
    "sqlContext=SQLContext(sc)"
   ]
  },
  {
   "cell_type": "markdown",
   "id": "30625041",
   "metadata": {},
   "source": [
    "There are 3 csv files:\n",
    "\n",
    "ratings.csv : rating that a user gave to a movie \n",
    "\n",
    "movies.csv: genre and title of each movie\n",
    "\n",
    "links.csv: \n",
    "\n",
    "imdbId is an identifier for movies used by http://www.imdb.com. E.g., the movie Toy Story has the link http://www.imdb.com/title/tt0114709/.\n",
    "\n",
    "tmdbId is an identifier for movies used by https://www.themoviedb.org. E.g., the movie Toy Story has the link https://www.themoviedb.org/movie/862.\n"
   ]
  },
  {
   "cell_type": "code",
   "execution_count": 7,
   "id": "8b0dad07",
   "metadata": {},
   "outputs": [
    {
     "name": "stdout",
     "output_type": "stream",
     "text": [
      "root\n",
      " |-- userId: integer (nullable = true)\n",
      " |-- movieId: integer (nullable = true)\n",
      " |-- rating: double (nullable = true)\n",
      " |-- timestamp: integer (nullable = true)\n",
      "\n"
     ]
    }
   ],
   "source": [
    "ratings_df = spark.read.csv('ratings.csv',inferSchema=True,header=True)\n",
    "ratings_df.printSchema()"
   ]
  },
  {
   "cell_type": "code",
   "execution_count": 8,
   "id": "01cda9d9",
   "metadata": {},
   "outputs": [
    {
     "name": "stdout",
     "output_type": "stream",
     "text": [
      "+------+-------+------+---------+\n",
      "|userId|movieId|rating|timestamp|\n",
      "+------+-------+------+---------+\n",
      "|     1|      1|   4.0|964982703|\n",
      "|     1|      3|   4.0|964981247|\n",
      "|     1|      6|   4.0|964982224|\n",
      "|     1|     47|   5.0|964983815|\n",
      "+------+-------+------+---------+\n",
      "only showing top 4 rows\n",
      "\n"
     ]
    }
   ],
   "source": [
    "ratings_df.show(4)"
   ]
  },
  {
   "cell_type": "code",
   "execution_count": 11,
   "id": "c86ea354",
   "metadata": {},
   "outputs": [
    {
     "name": "stdout",
     "output_type": "stream",
     "text": [
      "+------+-------+------+---------+\n",
      "|userId|movieId|rating|timestamp|\n",
      "+------+-------+------+---------+\n",
      "|     1|      1|   4.0|964982703|\n",
      "|     1|      3|   4.0|964981247|\n",
      "|     1|      6|   4.0|964982224|\n",
      "|     1|     47|   5.0|964983815|\n",
      "|     1|     50|   5.0|964982931|\n",
      "+------+-------+------+---------+\n",
      "only showing top 5 rows\n",
      "\n"
     ]
    }
   ],
   "source": [
    "ratings_df.show(5)"
   ]
  },
  {
   "cell_type": "code",
   "execution_count": 12,
   "id": "1f30d6b2",
   "metadata": {},
   "outputs": [
    {
     "name": "stdout",
     "output_type": "stream",
     "text": [
      "root\n",
      " |-- movieId: integer (nullable = true)\n",
      " |-- title: string (nullable = true)\n",
      " |-- genres: string (nullable = true)\n",
      "\n"
     ]
    }
   ],
   "source": [
    "movies_df = spark.read.csv('movies.csv',inferSchema=True,header=True)\n",
    "movies_df.printSchema()"
   ]
  },
  {
   "cell_type": "code",
   "execution_count": 13,
   "id": "8e9e32ad",
   "metadata": {},
   "outputs": [
    {
     "name": "stdout",
     "output_type": "stream",
     "text": [
      "+-------+--------------------+--------------------+\n",
      "|movieId|               title|              genres|\n",
      "+-------+--------------------+--------------------+\n",
      "|      1|    Toy Story (1995)|Adventure|Animati...|\n",
      "|      2|      Jumanji (1995)|Adventure|Childre...|\n",
      "|      3|Grumpier Old Men ...|      Comedy|Romance|\n",
      "|      4|Waiting to Exhale...|Comedy|Drama|Romance|\n",
      "|      5|Father of the Bri...|              Comedy|\n",
      "+-------+--------------------+--------------------+\n",
      "only showing top 5 rows\n",
      "\n"
     ]
    }
   ],
   "source": [
    "movies_df.show(5)"
   ]
  },
  {
   "cell_type": "code",
   "execution_count": 14,
   "id": "e2f0a7fc",
   "metadata": {},
   "outputs": [
    {
     "name": "stdout",
     "output_type": "stream",
     "text": [
      "root\n",
      " |-- movieId: integer (nullable = true)\n",
      " |-- imdbId: integer (nullable = true)\n",
      " |-- tmdbId: integer (nullable = true)\n",
      "\n"
     ]
    }
   ],
   "source": [
    "links_df = spark.read.csv('links.csv',inferSchema=True,header=True)\n",
    "links_df.printSchema()"
   ]
  },
  {
   "cell_type": "code",
   "execution_count": 15,
   "id": "e12d0b1c",
   "metadata": {},
   "outputs": [
    {
     "name": "stdout",
     "output_type": "stream",
     "text": [
      "+-------+------+------+\n",
      "|movieId|imdbId|tmdbId|\n",
      "+-------+------+------+\n",
      "|      1|114709|   862|\n",
      "|      2|113497|  8844|\n",
      "|      3|113228| 15602|\n",
      "|      4|114885| 31357|\n",
      "|      5|113041| 11862|\n",
      "+-------+------+------+\n",
      "only showing top 5 rows\n",
      "\n"
     ]
    }
   ],
   "source": [
    "links_df.show(5)"
   ]
  },
  {
   "cell_type": "markdown",
   "id": "8b07edfd",
   "metadata": {},
   "source": [
    "ALS requires all input data to be numberic - no need to change since our data is numeric already\n",
    "\n",
    "In this step we split rating dataframe to training and validation datasets"
   ]
  },
  {
   "cell_type": "code",
   "execution_count": 17,
   "id": "0f53d608",
   "metadata": {},
   "outputs": [],
   "source": [
    "\n",
    "training_df, validation_df = ratings_df.randomSplit([0.8,0.2])"
   ]
  },
  {
   "cell_type": "markdown",
   "id": "ba698b52",
   "metadata": {},
   "source": [
    "ALS requires "
   ]
  },
  {
   "cell_type": "code",
   "execution_count": 18,
   "id": "4e24097f",
   "metadata": {},
   "outputs": [],
   "source": [
    "#These data are required for ALS\n",
    "iterations = 10\n",
    "regularization_parameter = 0.1\n",
    "rank = 4 #this is a concept in matric factorization this is from cross validation \n",
    "#In mathematics, given an m × n matrix A of rank r, a rank decomposition or rank factorization of A is a factorization of A of the form A = CF, \n",
    "#where C is an m × r matrix and F is an r × n matrix.\n",
    "#use rank 4,5,6 and other values to pick the best one \n",
    "\n",
    "#gradiaent descent is used to minimize errors\n",
    "\n",
    "errors =[]\n",
    "err = 0"
   ]
  },
  {
   "cell_type": "code",
   "execution_count": 19,
   "id": "575d279d",
   "metadata": {},
   "outputs": [
    {
     "name": "stdout",
     "output_type": "stream",
     "text": [
      "Root-mean-square error =0.8774178786683966\n"
     ]
    }
   ],
   "source": [
    "als = ALS(maxIter = iterations, regParam = regularization_parameter, rank=4, userCol =\"userId\", itemCol='movieId',ratingCol='rating')\n",
    "model = als.fit(training_df)\n",
    "predictions = model.transform(validation_df)\n",
    "new_predictions = predictions.filter(col('prediction') != np.nan)\n",
    "evaluator = RegressionEvaluator(metricName='rmse',labelCol='rating',predictionCol='prediction')\n",
    "rmse = evaluator.evaluate(new_predictions)\n",
    "print(\"Root-mean-square error =\"+str(rmse))"
   ]
  },
  {
   "cell_type": "code",
   "execution_count": 20,
   "id": "a431d827",
   "metadata": {},
   "outputs": [
    {
     "name": "stdout",
     "output_type": "stream",
     "text": [
      "+------+-------+------+----------+----------+\n",
      "|userId|movieId|rating| timestamp|prediction|\n",
      "+------+-------+------+----------+----------+\n",
      "|   182|    471|   4.5|1054779644| 3.3760562|\n",
      "|    57|    471|   3.0| 969753604| 3.3690586|\n",
      "|   462|    471|   2.5|1123890831| 2.5891209|\n",
      "|   610|    471|   4.0|1479544381| 3.8334165|\n",
      "|   136|    471|   4.0| 832450058| 3.4742217|\n",
      "|   411|    471|   4.0| 835532928| 3.3836277|\n",
      "|   414|    471|   5.0| 961514069|  3.787899|\n",
      "|   541|    471|   3.0| 835643551| 2.6706078|\n",
      "|   373|    471|   5.0| 846830388| 3.3302827|\n",
      "|   357|    471|   3.5|1348627082| 3.6292505|\n",
      "+------+-------+------+----------+----------+\n",
      "only showing top 10 rows\n",
      "\n"
     ]
    }
   ],
   "source": [
    "predictions.show(n=10)"
   ]
  },
  {
   "cell_type": "code",
   "execution_count": 21,
   "id": "0575ccce",
   "metadata": {},
   "outputs": [
    {
     "name": "stdout",
     "output_type": "stream",
     "text": [
      "+------+--------------------+------+----------+\n",
      "|userId|               title|genres|prediction|\n",
      "+------+--------------------+------+----------+\n",
      "|   182|Hudsucker Proxy, ...|Comedy| 3.3760562|\n",
      "|    57|Hudsucker Proxy, ...|Comedy| 3.3690586|\n",
      "|   462|Hudsucker Proxy, ...|Comedy| 2.5891209|\n",
      "|   610|Hudsucker Proxy, ...|Comedy| 3.8334165|\n",
      "|   136|Hudsucker Proxy, ...|Comedy| 3.4742217|\n",
      "+------+--------------------+------+----------+\n",
      "only showing top 5 rows\n",
      "\n"
     ]
    }
   ],
   "source": [
    "predictions.join(movies_df, 'movieId').select(\"userId\",\"title\",\"genres\",\"prediction\").show(5)"
   ]
  },
  {
   "cell_type": "code",
   "execution_count": 25,
   "id": "d4ccbe77",
   "metadata": {},
   "outputs": [
    {
     "name": "stdout",
     "output_type": "stream",
     "text": [
      "+------+--------------------+--------------------+----------+\n",
      "|userId|               title|              genres|prediction|\n",
      "+------+--------------------+--------------------+----------+\n",
      "|   357|Hudsucker Proxy, ...|              Comedy| 3.6292505|\n",
      "|   357| Pulp Fiction (1994)|Comedy|Crime|Dram...|  4.311175|\n",
      "|   357|The Machinist (2004)|Drama|Mystery|Thr...|  4.131466|\n",
      "|   357|Silence of the La...|Crime|Horror|Thri...| 4.3103695|\n",
      "|   357|Super Size Me (2004)|Comedy|Documentar...| 3.8793893|\n",
      "|   357|   Young Guns (1988)|Action|Comedy|Wes...| 3.3264928|\n",
      "|   357|Grosse Pointe Bla...|Comedy|Crime|Romance| 3.8550434|\n",
      "|   357|Austin Powers: Th...|Action|Adventure|...| 3.3309813|\n",
      "|   357|    Quiz Show (1994)|               Drama| 3.7013764|\n",
      "|   357|        Ghost (1990)|Comedy|Drama|Fant...| 3.6219265|\n",
      "|   357|When Harry Met Sa...|      Comedy|Romance| 4.0273376|\n",
      "|   357|Charlie and the C...|Adventure|Childre...| 3.4246156|\n",
      "|   357|Weird Science (1985)|Comedy|Fantasy|Sc...| 3.1713977|\n",
      "|   357|Unlawful Entry (1...|      Crime|Thriller|       NaN|\n",
      "|   357|  Blue Velvet (1986)|Drama|Mystery|Thr...| 3.8693914|\n",
      "|   357|Christmas Story, ...|     Children|Comedy|  4.104536|\n",
      "|   357|Thank You for Smo...|        Comedy|Drama|  4.269503|\n",
      "|   357|Wedding Singer, T...|      Comedy|Romance|  3.781293|\n",
      "|   357|Crazy, Stupid, Lo...|Comedy|Drama|Romance|  4.119502|\n",
      "|   357|     Rain Man (1988)|               Drama| 4.0622416|\n",
      "+------+--------------------+--------------------+----------+\n",
      "only showing top 20 rows\n",
      "\n"
     ]
    }
   ],
   "source": [
    "#Let's predict for one user\n",
    "for_one_user = predictions.filter(col(\"userId\")==357).join(movies_df,\"movieId\").join(links_df,\"movieId\").select(\"userId\",\"title\",\"genres\",\"prediction\")\n",
    "for_one_user.show()"
   ]
  },
  {
   "cell_type": "code",
   "execution_count": 26,
   "id": "19165681",
   "metadata": {},
   "outputs": [],
   "source": [
    "# Generate top 5 movie recommendation for each user\n",
    "userRecomments = model.recommendForAllUsers(5)"
   ]
  },
  {
   "cell_type": "code",
   "execution_count": 27,
   "id": "44642d2c",
   "metadata": {},
   "outputs": [],
   "source": [
    "# Generate top 5 movie recommendation for each user\n",
    "movieRecomments = model.recommendForAllItems(5)"
   ]
  },
  {
   "cell_type": "code",
   "execution_count": 28,
   "id": "d42be440",
   "metadata": {},
   "outputs": [
    {
     "name": "stdout",
     "output_type": "stream",
     "text": [
      "+------+-------------------------------------+\n",
      "|userId|movieId                              |\n",
      "+------+-------------------------------------+\n",
      "|471   |[141718, 40491, 104875, 6818, 89904] |\n",
      "|463   |[102217, 92494, 141718, 59018, 33649]|\n",
      "|496   |[40491, 6818, 96004, 102217, 92494]  |\n",
      "|148   |[3925, 51931, 6732, 89904, 2327]     |\n",
      "|540   |[141718, 33649, 102217, 92494, 59018]|\n",
      "|392   |[104875, 141718, 33649, 6201, 4495]  |\n",
      "|243   |[5666, 87234, 51931, 67618, 62293]   |\n",
      "|31    |[87234, 7842, 5666, 67618, 84847]    |\n",
      "|516   |[4495, 6201, 33649, 141718, 8235]    |\n",
      "|580   |[51931, 5666, 3925, 86290, 87234]    |\n",
      "+------+-------------------------------------+\n",
      "only showing top 10 rows\n",
      "\n"
     ]
    }
   ],
   "source": [
    "userRecomments.select(\"userId\",\"recommendations.movieId\").show(10,False)"
   ]
  },
  {
   "cell_type": "code",
   "execution_count": 29,
   "id": "9f41f83d",
   "metadata": {},
   "outputs": [
    {
     "name": "stdout",
     "output_type": "stream",
     "text": [
      "+-------+-------------------------+\n",
      "|movieId|userId                   |\n",
      "+-------+-------------------------+\n",
      "|1580   |[53, 543, 43, 276, 452]  |\n",
      "|4900   |[53, 243, 12, 548, 224]  |\n",
      "|5300   |[236, 138, 154, 258, 295]|\n",
      "|6620   |[295, 55, 502, 266, 535] |\n",
      "|7340   |[543, 43, 327, 584, 544] |\n",
      "|32460  |[43, 53, 452, 337, 429]  |\n",
      "|54190  |[53, 452, 337, 578, 554] |\n",
      "|471    |[154, 53, 598, 51, 441]  |\n",
      "|1591   |[147, 138, 595, 44, 96]  |\n",
      "|140541 |[360, 337, 492, 456, 175]|\n",
      "+-------+-------------------------+\n",
      "only showing top 10 rows\n",
      "\n"
     ]
    }
   ],
   "source": [
    "movieRecomments.select(\"movieId\",\"recommendations.userId\").show(10,False)"
   ]
  },
  {
   "cell_type": "code",
   "execution_count": 30,
   "id": "c13f7e40",
   "metadata": {},
   "outputs": [
    {
     "name": "stdout",
     "output_type": "stream",
     "text": [
      "+------+\n",
      "|userId|\n",
      "+------+\n",
      "|   148|\n",
      "|   463|\n",
      "|   471|\n",
      "+------+\n",
      "\n"
     ]
    }
   ],
   "source": [
    "#take 3 random users \n",
    "\n",
    "users=ratings_df.select(\"userId\").distinct().limit(3)\n",
    "users.show()"
   ]
  },
  {
   "cell_type": "code",
   "execution_count": 46,
   "id": "4b3f425a",
   "metadata": {},
   "outputs": [
    {
     "name": "stdout",
     "output_type": "stream",
     "text": [
      "+------+--------------------+\n",
      "|userId|     recommendations|\n",
      "+------+--------------------+\n",
      "|   471|[{3379, 5.1067796...|\n",
      "|   463|[{4789, 5.4247403...|\n",
      "|   148|[{2068, 4.9471707...|\n",
      "+------+--------------------+\n",
      "\n"
     ]
    }
   ],
   "source": [
    "useSubsetRec = model.recommendForUserSubset(users,10)\n",
    "useSubsetRec.show()"
   ]
  },
  {
   "cell_type": "code",
   "execution_count": 48,
   "id": "e4f669ba",
   "metadata": {},
   "outputs": [
    {
     "name": "stdout",
     "output_type": "stream",
     "text": [
      "+------+---------------------------------------------------------------+\n",
      "|userId|movieId                                                        |\n",
      "+------+---------------------------------------------------------------+\n",
      "|471   |[3379, 96004, 6818, 3266, 2295, 3473, 89759, 7121, 58301, 7096]|\n",
      "|463   |[4789, 3379, 3200, 5075, 446, 1237, 84847, 3347, 184245, 7071] |\n",
      "|148   |[2068, 5607, 27611, 8235, 3223, 3341, 3531, 2972, 2512, 1310]  |\n",
      "+------+---------------------------------------------------------------+\n",
      "\n"
     ]
    }
   ],
   "source": [
    "useSubsetRec.select(\"userId\",\"recommendations.movieId\").show(10,False)"
   ]
  },
  {
   "cell_type": "code",
   "execution_count": null,
   "id": "e90ef7c3",
   "metadata": {},
   "outputs": [],
   "source": []
  }
 ],
 "metadata": {
  "kernelspec": {
   "display_name": "Python 3",
   "language": "python",
   "name": "python3"
  },
  "language_info": {
   "codemirror_mode": {
    "name": "ipython",
    "version": 3
   },
   "file_extension": ".py",
   "mimetype": "text/x-python",
   "name": "python",
   "nbconvert_exporter": "python",
   "pygments_lexer": "ipython3",
   "version": "3.8.8"
  }
 },
 "nbformat": 4,
 "nbformat_minor": 5
}
